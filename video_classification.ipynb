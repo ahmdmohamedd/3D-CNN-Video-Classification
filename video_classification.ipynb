{
 "cells": [
  {
   "cell_type": "code",
   "execution_count": null,
   "id": "6af138ab-8f4f-4fff-adb1-a9ab17bc8ea6",
   "metadata": {},
   "outputs": [],
   "source": [
    "import numpy as np\n",
    "import tensorflow as tf\n",
    "from tensorflow.keras.models import Sequential\n",
    "from tensorflow.keras.layers import Conv3D, MaxPooling3D, Flatten, Dense, Dropout\n",
    "from sklearn.model_selection import train_test_split\n",
    "import cv2\n",
    "import os"
   ]
  },
  {
   "cell_type": "code",
   "execution_count": null,
   "id": "e6937ad6-6e63-4bf1-8d5d-071e19853394",
   "metadata": {},
   "outputs": [],
   "source": [
    "def load_video_data(video_path, frames=16, resize=(64, 64)):\n",
    "    frames_list = []\n",
    "    cap = cv2.VideoCapture(video_path)\n",
    "    \n",
    "    # Get total frames in the video\n",
    "    total_frames = int(cap.get(cv2.CAP_PROP_FRAME_COUNT))\n",
    "    \n",
    "    frame_indices = np.linspace(0, total_frames-1, frames, dtype=int)\n",
    "    \n",
    "    for i in frame_indices:\n",
    "        cap.set(cv2.CAP_PROP_POS_FRAMES, i)\n",
    "        ret, frame = cap.read()\n",
    "        if ret:\n",
    "            frame = cv2.cvtColor(frame, cv2.COLOR_BGR2RGB)\n",
    "            frame = cv2.resize(frame, resize)\n",
    "            frames_list.append(frame)\n",
    "    \n",
    "    cap.release()\n",
    "    return np.array(frames_list)\n"
   ]
  },
  {
   "cell_type": "code",
   "execution_count": null,
   "id": "4a144126-8b38-4e7d-b955-f22ea9b1865d",
   "metadata": {},
   "outputs": [],
   "source": [
    "def prepare_data(dataset_dir, categories, frames=16, resize=(64, 64)):\n",
    "    X = []\n",
    "    Y = []\n",
    "    \n",
    "    for label, category in enumerate(categories):\n",
    "        category_dir = os.path.join(dataset_dir, category)\n",
    "        \n",
    "        for video_name in os.listdir(category_dir):\n",
    "            video_path = os.path.join(category_dir, video_name)\n",
    "            if video_name.endswith('.avi'):\n",
    "                video_data = load_video_data(video_path, frames, resize)\n",
    "                X.append(video_data)\n",
    "                Y.append(label)\n",
    "    \n",
    "    X = np.array(X)\n",
    "    Y = np.array(Y)\n",
    "    \n",
    "    return X, Y\n"
   ]
  },
  {
   "cell_type": "code",
   "execution_count": null,
   "id": "bd860953-8006-488d-906e-205f2f1b68be",
   "metadata": {},
   "outputs": [],
   "source": [
    "dataset_dir = '/path/to/UCF101'  # Update with your UCF101 dataset path\n",
    "categories = ['category1', 'category2', ...]  # Replace with actual categories\n",
    "\n",
    "X, Y = prepare_data(dataset_dir, categories)\n",
    "\n",
    "# Split dataset into training and testing sets\n",
    "X_train, X_test, Y_train, Y_test = train_test_split(X, Y, test_size=0.2, random_state=42)\n"
   ]
  },
  {
   "cell_type": "code",
   "execution_count": null,
   "id": "6b0ba02f-424b-4a9e-9d72-76504f665a1f",
   "metadata": {},
   "outputs": [],
   "source": [
    "# Normalize data\n",
    "X_train = X_train / 255.0\n",
    "X_test = X_test / 255.0"
   ]
  },
  {
   "cell_type": "code",
   "execution_count": null,
   "id": "d45f15f0-1b22-474f-8098-2d933563efd7",
   "metadata": {},
   "outputs": [],
   "source": [
    "def build_3d_cnn(input_shape, num_classes):\n",
    "    model = Sequential([\n",
    "        Conv3D(32, kernel_size=(3, 3, 3), activation='relu', input_shape=input_shape),\n",
    "        MaxPooling3D(pool_size=(2, 2, 2)),\n",
    "        \n",
    "        Conv3D(64, kernel_size=(3, 3, 3), activation='relu'),\n",
    "        MaxPooling3D(pool_size=(2, 2, 2)),\n",
    "        \n",
    "        Conv3D(128, kernel_size=(3, 3, 3), activation='relu'),\n",
    "        MaxPooling3D(pool_size=(2, 2, 2)),\n",
    "        \n",
    "        Flatten(),\n",
    "        Dense(128, activation='relu'),\n",
    "        Dropout(0.5),\n",
    "        Dense(num_classes, activation='softmax')\n",
    "    ])\n",
    "    \n",
    "    model.compile(optimizer='adam', loss='sparse_categorical_crossentropy', metrics=['accuracy'])\n",
    "    return model\n"
   ]
  },
  {
   "cell_type": "code",
   "execution_count": null,
   "id": "67169bc9-f3b2-47cb-8c51-2893bb0fdc12",
   "metadata": {},
   "outputs": [],
   "source": [
    "model = build_3d_cnn(X_train.shape[1:], len(categories))\n",
    "\n",
    "history = model.fit(X_train, Y_train, epochs=10, batch_size=8, validation_data=(X_test, Y_test))"
   ]
  },
  {
   "cell_type": "code",
   "execution_count": null,
   "id": "2ca84f52-e625-41b4-a841-4edb24d0a7bc",
   "metadata": {},
   "outputs": [],
   "source": [
    "test_loss, test_acc = model.evaluate(X_test, Y_test)\n",
    "print(f\"Test accuracy: {test_acc}\")"
   ]
  },
  {
   "cell_type": "code",
   "execution_count": null,
   "id": "d626799b-74e9-4542-b70c-74796fd4fbac",
   "metadata": {},
   "outputs": [],
   "source": [
    "def predict_video(model, video_path, frames=16, resize=(64, 64)):\n",
    "    video_data = load_video_data(video_path, frames, resize)\n",
    "    video_data = np.expand_dims(video_data, axis=0)  # Add batch dimension\n",
    "    \n",
    "    prediction = model.predict(video_data)\n",
    "    predicted_class = np.argmax(prediction)\n",
    "    return predicted_class"
   ]
  }
 ],
 "metadata": {
  "kernelspec": {
   "display_name": "Python 3 (ipykernel)",
   "language": "python",
   "name": "python3"
  },
  "language_info": {
   "codemirror_mode": {
    "name": "ipython",
    "version": 3
   },
   "file_extension": ".py",
   "mimetype": "text/x-python",
   "name": "python",
   "nbconvert_exporter": "python",
   "pygments_lexer": "ipython3",
   "version": "3.9.18"
  }
 },
 "nbformat": 4,
 "nbformat_minor": 5
}
